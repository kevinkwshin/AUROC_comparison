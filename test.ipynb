{
 "cells": [
  {
   "cell_type": "code",
   "execution_count": null,
   "id": "0b8717a4-937b-43f8-a22e-5980fbf13da1",
   "metadata": {},
   "outputs": [],
   "source": [
    "from auroc_comparsion import *\n",
    "\n",
    "response = np.array([0,0,0,0,0,0,1,1,1,1,1,1,1]) # GT\n",
    "model1_prediction = np.array([0.1,0.2,0.05,0.3,0.1,0.6,0.6,0.7,0.8,0.99,0.8,0.67,0.5]) # prediction of model1\n",
    "model2_prediction = np.array([0.3,0.6,0.2,0.1,0.1,0.9,0.23,0.7,0.9,0.4,0.77,0.3,0.89]) # prediction of model2"
   ]
  },
  {
   "cell_type": "code",
   "execution_count": null,
   "id": "f9ddc99f-3e20-43b4-a426-83415bd276b6",
   "metadata": {},
   "outputs": [],
   "source": [
    "# return auroc of each model and p-value of auroc comparison\n",
    "aucs, p_value = delong_roc_test(response, model1_prediction, model2_prediction)"
   ]
  },
  {
   "cell_type": "code",
   "execution_count": null,
   "id": "58eff15f-3f51-4a3e-b9ea-3de7aed694c7",
   "metadata": {},
   "outputs": [],
   "source": [
    "print(f' aucs : {aucs}, p_value : {p_value}')"
   ]
  }
 ],
 "metadata": {
  "kernelspec": {
   "display_name": "Python 3 (ipykernel)",
   "language": "python",
   "name": "python3"
  },
  "language_info": {
   "codemirror_mode": {
    "name": "ipython",
    "version": 3
   },
   "file_extension": ".py",
   "mimetype": "text/x-python",
   "name": "python",
   "nbconvert_exporter": "python",
   "pygments_lexer": "ipython3",
   "version": "3.9.13"
  }
 },
 "nbformat": 4,
 "nbformat_minor": 5
}
